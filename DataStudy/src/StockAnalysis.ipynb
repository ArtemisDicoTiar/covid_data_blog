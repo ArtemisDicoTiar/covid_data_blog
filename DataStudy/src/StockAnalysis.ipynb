{
 "cells": [
  {
   "cell_type": "code",
   "execution_count": 19,
   "metadata": {
    "collapsed": true,
    "pycharm": {
     "name": "#%% python\n"
    }
   },
   "outputs": [],
   "source": [
    "import pandas as pd\n",
    "import yfinance as yf\n",
    "import matplotlib.pyplot as plt\n",
    "\n"
   ]
  },
  {
   "cell_type": "code",
   "execution_count": 3,
   "outputs": [
    {
     "name": "stdout",
     "output_type": "stream",
     "text": [
      "['AAPL', 'ADBE', 'ADI', 'ADP', 'ADSK', 'AEP', 'ALGN', 'ALXN', 'AMAT', 'AMD', 'AMGN', 'AMZN', 'ANSS', 'ASML', 'ATVI', 'AVGO', 'BIDU', 'BIIB', 'BKNG', 'CDNS', 'CDW', 'CERN', 'CHKP', 'CHTR', 'CMCSA', 'COST', 'CPRT', 'CSCO', 'CSX', 'CTAS', 'CTSH', 'DLTR', 'DOCU', 'DXCM', 'EA', 'EBAY', 'EXC', 'FAST', 'FB', 'FISV', 'FOX', 'FOXA', 'GILD', 'GOOG', 'GOOGL', 'IDXX', 'ILMN', 'INCY', 'INTC', 'INTU', 'ISRG', 'JD', 'KDP', 'KHC', 'KLAC', 'LRCX', 'LULU', 'MAR', 'MCHP', 'MDLZ', 'MELI', 'MNST', 'MRNA', 'MRVL', 'MSFT', 'MTCH', 'MU', 'MXIM', 'NFLX', 'NTES', 'NVDA', 'NXPI', 'OKTA', 'ORLY', 'PAYX', 'PCAR', 'PDD', 'PEP', 'PTON', 'PYPL', 'QCOM', 'REGN', 'ROST', 'SBUX', 'SGEN', 'SIRI', 'SNPS', 'SPLK', 'SWKS', 'TCOM', 'TEAM', 'TMUS', 'TSLA', 'TXN', 'VRSK', 'VRSN', 'VRTX', 'WBA', 'WDAY', 'XEL', 'XLNX', 'ZM', 'HPQ', 'HPE']\n"
     ]
    }
   ],
   "source": [
    "nasdaq100_df = pd.read_csv('../nasdaq100.csv')\n",
    "nasdaq100_list = nasdaq100_df['Symbol'].tolist()\n",
    "print(nasdaq100_list)"
   ],
   "metadata": {
    "collapsed": false,
    "pycharm": {
     "name": "#%%\n"
    }
   }
  },
  {
   "cell_type": "code",
   "execution_count": 4,
   "outputs": [],
   "source": [
    "stocks_df = pd.DataFrame()\n",
    "for nasdaq in nasdaq100_list:\n",
    "    # this api returns pandas DataFrame\n",
    "    history = yf.Ticker(nasdaq).history(start='2021-03-01', end='2021-05-11')\n",
    "    stocks_df[nasdaq] = history['Close']\n",
    "\n"
   ],
   "metadata": {
    "collapsed": false,
    "pycharm": {
     "name": "#%%\n"
    }
   }
  },
  {
   "cell_type": "code",
   "execution_count": 5,
   "outputs": [],
   "source": [
    "corr_df = stocks_df.corr()\n"
   ],
   "metadata": {
    "collapsed": false,
    "pycharm": {
     "name": "#%%\n"
    }
   }
  },
  {
   "cell_type": "code",
   "execution_count": 6,
   "outputs": [
    {
     "data": {
      "text/plain": "    index       HPQ\n0     HPQ  1.000000\n1     CSX  0.958070\n2    CPRT  0.944313\n3    ORLY  0.944067\n4    CERN  0.941222\n5    COST  0.940633\n6    VRSN  0.937313\n7    GOOG  0.932399\n8   GOOGL  0.932013\n9     XEL  0.924269\n10    CDW  0.916286\n11   ISRG  0.913310\n12   SBUX  0.910378\n13   FAST  0.910144\n14   TMUS  0.907513\n15   ASML  0.896888\n16    KHC  0.892924\n17   ROST  0.890850\n18   ALXN  0.889607\n19   MNST  0.871019\n20     FB  0.863398\n21   MSFT  0.859053\n22   AMZN  0.857455\n23    KDP  0.855171\n24    PEP  0.853724\n25    AEP  0.853612\n26   NVDA  0.851447",
      "text/html": "<div>\n<style scoped>\n    .dataframe tbody tr th:only-of-type {\n        vertical-align: middle;\n    }\n\n    .dataframe tbody tr th {\n        vertical-align: top;\n    }\n\n    .dataframe thead th {\n        text-align: right;\n    }\n</style>\n<table border=\"1\" class=\"dataframe\">\n  <thead>\n    <tr style=\"text-align: right;\">\n      <th></th>\n      <th>index</th>\n      <th>HPQ</th>\n    </tr>\n  </thead>\n  <tbody>\n    <tr>\n      <th>0</th>\n      <td>HPQ</td>\n      <td>1.000000</td>\n    </tr>\n    <tr>\n      <th>1</th>\n      <td>CSX</td>\n      <td>0.958070</td>\n    </tr>\n    <tr>\n      <th>2</th>\n      <td>CPRT</td>\n      <td>0.944313</td>\n    </tr>\n    <tr>\n      <th>3</th>\n      <td>ORLY</td>\n      <td>0.944067</td>\n    </tr>\n    <tr>\n      <th>4</th>\n      <td>CERN</td>\n      <td>0.941222</td>\n    </tr>\n    <tr>\n      <th>5</th>\n      <td>COST</td>\n      <td>0.940633</td>\n    </tr>\n    <tr>\n      <th>6</th>\n      <td>VRSN</td>\n      <td>0.937313</td>\n    </tr>\n    <tr>\n      <th>7</th>\n      <td>GOOG</td>\n      <td>0.932399</td>\n    </tr>\n    <tr>\n      <th>8</th>\n      <td>GOOGL</td>\n      <td>0.932013</td>\n    </tr>\n    <tr>\n      <th>9</th>\n      <td>XEL</td>\n      <td>0.924269</td>\n    </tr>\n    <tr>\n      <th>10</th>\n      <td>CDW</td>\n      <td>0.916286</td>\n    </tr>\n    <tr>\n      <th>11</th>\n      <td>ISRG</td>\n      <td>0.913310</td>\n    </tr>\n    <tr>\n      <th>12</th>\n      <td>SBUX</td>\n      <td>0.910378</td>\n    </tr>\n    <tr>\n      <th>13</th>\n      <td>FAST</td>\n      <td>0.910144</td>\n    </tr>\n    <tr>\n      <th>14</th>\n      <td>TMUS</td>\n      <td>0.907513</td>\n    </tr>\n    <tr>\n      <th>15</th>\n      <td>ASML</td>\n      <td>0.896888</td>\n    </tr>\n    <tr>\n      <th>16</th>\n      <td>KHC</td>\n      <td>0.892924</td>\n    </tr>\n    <tr>\n      <th>17</th>\n      <td>ROST</td>\n      <td>0.890850</td>\n    </tr>\n    <tr>\n      <th>18</th>\n      <td>ALXN</td>\n      <td>0.889607</td>\n    </tr>\n    <tr>\n      <th>19</th>\n      <td>MNST</td>\n      <td>0.871019</td>\n    </tr>\n    <tr>\n      <th>20</th>\n      <td>FB</td>\n      <td>0.863398</td>\n    </tr>\n    <tr>\n      <th>21</th>\n      <td>MSFT</td>\n      <td>0.859053</td>\n    </tr>\n    <tr>\n      <th>22</th>\n      <td>AMZN</td>\n      <td>0.857455</td>\n    </tr>\n    <tr>\n      <th>23</th>\n      <td>KDP</td>\n      <td>0.855171</td>\n    </tr>\n    <tr>\n      <th>24</th>\n      <td>PEP</td>\n      <td>0.853724</td>\n    </tr>\n    <tr>\n      <th>25</th>\n      <td>AEP</td>\n      <td>0.853612</td>\n    </tr>\n    <tr>\n      <th>26</th>\n      <td>NVDA</td>\n      <td>0.851447</td>\n    </tr>\n  </tbody>\n</table>\n</div>"
     },
     "execution_count": 6,
     "metadata": {},
     "output_type": "execute_result"
    }
   ],
   "source": [
    "corr_df = corr_df.reindex(corr_df.HPQ.abs().sort_values(ascending=False).index)\n",
    "target_df = corr_df[corr_df['HPQ']>0.85]['HPQ'].reset_index()\n",
    "target_df"
   ],
   "metadata": {
    "collapsed": false,
    "pycharm": {
     "name": "#%%\n"
    }
   }
  },
  {
   "cell_type": "code",
   "execution_count": 7,
   "outputs": [
    {
     "data": {
      "text/plain": "   Symbol                                               Name  index       HPQ\n26    HPQ                                          \"HP Inc.\"    HPQ  1.000000\n8     CSX                       CSX Corporation Common Stock    CSX  0.958070\n7    CPRT                     Copart, Inc. (DE) Common Stock   CPRT  0.944313\n19   ORLY             O'Reilly Automotive, Inc. Common Stock   ORLY  0.944067\n5    CERN                    Cerner Corporation Common Stock   CERN  0.941222\n6    COST          Costco Wholesale Corporation Common Stock   COST  0.940633\n24   VRSN                        VeriSign, Inc. Common Stock   VRSN  0.937313\n11   GOOG                Alphabet Inc. Class C Capital Stock   GOOG  0.932399\n12  GOOGL                 Alphabet Inc. Class A Common Stock  GOOGL  0.932013\n25    XEL                      Xcel Energy Inc. Common Stock    XEL  0.924269\n4     CDW                       CDW Corporation Common Stock    CDW  0.916286\n13   ISRG              Intuitive Surgical, Inc. Common Stock   ISRG  0.913310\n22   SBUX                 Starbucks Corporation Common Stock   SBUX  0.910378\n9    FAST                      Fastenal Company Common Stock   FAST  0.910144\n23   TMUS                     T-Mobile US, Inc. Common Stock   TMUS  0.907513\n3    ASML         ASML Holding N.V. New York Registry Shares   ASML  0.896888\n15    KHC               The Kraft Heinz Company Common Stock    KHC  0.892924\n21   ROST                     Ross Stores, Inc. Common Stock   ROST  0.890850\n1    ALXN         Alexion Pharmaceuticals, Inc. Common Stock   ALXN  0.889607\n16   MNST                       Monster Beverage Corporation   MNST  0.871019\n10     FB                Facebook, Inc. Class A Common Stock     FB  0.863398\n17   MSFT                 Microsoft Corporation Common Stock   MSFT  0.859053\n2    AMZN                      Amazon.com, Inc. Common Stock   AMZN  0.857455\n14    KDP                 Keurig Dr Pepper Inc. Common Stock    KDP  0.855171\n20    PEP                         PepsiCo, Inc. Common Stock    PEP  0.853724\n0     AEP  American Electric Power Company, Inc. Common S...    AEP  0.853612\n18   NVDA                    NVIDIA Corporation Common Stock   NVDA  0.851447",
      "text/html": "<div>\n<style scoped>\n    .dataframe tbody tr th:only-of-type {\n        vertical-align: middle;\n    }\n\n    .dataframe tbody tr th {\n        vertical-align: top;\n    }\n\n    .dataframe thead th {\n        text-align: right;\n    }\n</style>\n<table border=\"1\" class=\"dataframe\">\n  <thead>\n    <tr style=\"text-align: right;\">\n      <th></th>\n      <th>Symbol</th>\n      <th>Name</th>\n      <th>index</th>\n      <th>HPQ</th>\n    </tr>\n  </thead>\n  <tbody>\n    <tr>\n      <th>26</th>\n      <td>HPQ</td>\n      <td>\"HP Inc.\"</td>\n      <td>HPQ</td>\n      <td>1.000000</td>\n    </tr>\n    <tr>\n      <th>8</th>\n      <td>CSX</td>\n      <td>CSX Corporation Common Stock</td>\n      <td>CSX</td>\n      <td>0.958070</td>\n    </tr>\n    <tr>\n      <th>7</th>\n      <td>CPRT</td>\n      <td>Copart, Inc. (DE) Common Stock</td>\n      <td>CPRT</td>\n      <td>0.944313</td>\n    </tr>\n    <tr>\n      <th>19</th>\n      <td>ORLY</td>\n      <td>O'Reilly Automotive, Inc. Common Stock</td>\n      <td>ORLY</td>\n      <td>0.944067</td>\n    </tr>\n    <tr>\n      <th>5</th>\n      <td>CERN</td>\n      <td>Cerner Corporation Common Stock</td>\n      <td>CERN</td>\n      <td>0.941222</td>\n    </tr>\n    <tr>\n      <th>6</th>\n      <td>COST</td>\n      <td>Costco Wholesale Corporation Common Stock</td>\n      <td>COST</td>\n      <td>0.940633</td>\n    </tr>\n    <tr>\n      <th>24</th>\n      <td>VRSN</td>\n      <td>VeriSign, Inc. Common Stock</td>\n      <td>VRSN</td>\n      <td>0.937313</td>\n    </tr>\n    <tr>\n      <th>11</th>\n      <td>GOOG</td>\n      <td>Alphabet Inc. Class C Capital Stock</td>\n      <td>GOOG</td>\n      <td>0.932399</td>\n    </tr>\n    <tr>\n      <th>12</th>\n      <td>GOOGL</td>\n      <td>Alphabet Inc. Class A Common Stock</td>\n      <td>GOOGL</td>\n      <td>0.932013</td>\n    </tr>\n    <tr>\n      <th>25</th>\n      <td>XEL</td>\n      <td>Xcel Energy Inc. Common Stock</td>\n      <td>XEL</td>\n      <td>0.924269</td>\n    </tr>\n    <tr>\n      <th>4</th>\n      <td>CDW</td>\n      <td>CDW Corporation Common Stock</td>\n      <td>CDW</td>\n      <td>0.916286</td>\n    </tr>\n    <tr>\n      <th>13</th>\n      <td>ISRG</td>\n      <td>Intuitive Surgical, Inc. Common Stock</td>\n      <td>ISRG</td>\n      <td>0.913310</td>\n    </tr>\n    <tr>\n      <th>22</th>\n      <td>SBUX</td>\n      <td>Starbucks Corporation Common Stock</td>\n      <td>SBUX</td>\n      <td>0.910378</td>\n    </tr>\n    <tr>\n      <th>9</th>\n      <td>FAST</td>\n      <td>Fastenal Company Common Stock</td>\n      <td>FAST</td>\n      <td>0.910144</td>\n    </tr>\n    <tr>\n      <th>23</th>\n      <td>TMUS</td>\n      <td>T-Mobile US, Inc. Common Stock</td>\n      <td>TMUS</td>\n      <td>0.907513</td>\n    </tr>\n    <tr>\n      <th>3</th>\n      <td>ASML</td>\n      <td>ASML Holding N.V. New York Registry Shares</td>\n      <td>ASML</td>\n      <td>0.896888</td>\n    </tr>\n    <tr>\n      <th>15</th>\n      <td>KHC</td>\n      <td>The Kraft Heinz Company Common Stock</td>\n      <td>KHC</td>\n      <td>0.892924</td>\n    </tr>\n    <tr>\n      <th>21</th>\n      <td>ROST</td>\n      <td>Ross Stores, Inc. Common Stock</td>\n      <td>ROST</td>\n      <td>0.890850</td>\n    </tr>\n    <tr>\n      <th>1</th>\n      <td>ALXN</td>\n      <td>Alexion Pharmaceuticals, Inc. Common Stock</td>\n      <td>ALXN</td>\n      <td>0.889607</td>\n    </tr>\n    <tr>\n      <th>16</th>\n      <td>MNST</td>\n      <td>Monster Beverage Corporation</td>\n      <td>MNST</td>\n      <td>0.871019</td>\n    </tr>\n    <tr>\n      <th>10</th>\n      <td>FB</td>\n      <td>Facebook, Inc. Class A Common Stock</td>\n      <td>FB</td>\n      <td>0.863398</td>\n    </tr>\n    <tr>\n      <th>17</th>\n      <td>MSFT</td>\n      <td>Microsoft Corporation Common Stock</td>\n      <td>MSFT</td>\n      <td>0.859053</td>\n    </tr>\n    <tr>\n      <th>2</th>\n      <td>AMZN</td>\n      <td>Amazon.com, Inc. Common Stock</td>\n      <td>AMZN</td>\n      <td>0.857455</td>\n    </tr>\n    <tr>\n      <th>14</th>\n      <td>KDP</td>\n      <td>Keurig Dr Pepper Inc. Common Stock</td>\n      <td>KDP</td>\n      <td>0.855171</td>\n    </tr>\n    <tr>\n      <th>20</th>\n      <td>PEP</td>\n      <td>PepsiCo, Inc. Common Stock</td>\n      <td>PEP</td>\n      <td>0.853724</td>\n    </tr>\n    <tr>\n      <th>0</th>\n      <td>AEP</td>\n      <td>American Electric Power Company, Inc. Common S...</td>\n      <td>AEP</td>\n      <td>0.853612</td>\n    </tr>\n    <tr>\n      <th>18</th>\n      <td>NVDA</td>\n      <td>NVIDIA Corporation Common Stock</td>\n      <td>NVDA</td>\n      <td>0.851447</td>\n    </tr>\n  </tbody>\n</table>\n</div>"
     },
     "execution_count": 7,
     "metadata": {},
     "output_type": "execute_result"
    }
   ],
   "source": [
    "pd.merge(left=nasdaq100_df, right=target_df,\n",
    "        left_on='Symbol', right_on='index',\n",
    "         how='inner')\\\n",
    "    .sort_values(by='HPQ', ascending=False)\n"
   ],
   "metadata": {
    "collapsed": false,
    "pycharm": {
     "name": "#%%\n"
    }
   }
  },
  {
   "cell_type": "code",
   "execution_count": 21,
   "outputs": [
    {
     "data": {
      "text/plain": "<Figure size 432x288 with 1 Axes>",
      "image/png": "[encoded data removed]"
     },
     "metadata": {
      "needs_background": "light"
     },
     "output_type": "display_data"
    }
   ],
   "source": [
    "target_df.plot.bar(y='HPQ')\n",
    "plt.show()"
   ],
   "metadata": {
    "collapsed": false,
    "pycharm": {
     "name": "#%%\n"
    }
   }
  },
  {
   "cell_type": "code",
   "execution_count": null,
   "outputs": [],
   "source": [
    "\n"
   ],
   "metadata": {
    "collapsed": false,
    "pycharm": {
     "name": "#%%\n"
    }
   }
  }
 ],
 "metadata": {
  "kernelspec": {
   "display_name": "Python 3",
   "language": "python",
   "name": "python3"
  },
  "language_info": {
   "codemirror_mode": {
    "name": "ipython",
    "version": 2
   },
   "file_extension": ".py",
   "mimetype": "text/x-python",
   "name": "python",
   "nbconvert_exporter": "python",
   "pygments_lexer": "ipython2",
   "version": "2.7.6"
  }
 },
 "nbformat": 4,
 "nbformat_minor": 0
}